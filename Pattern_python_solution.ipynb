{
  "nbformat": 4,
  "nbformat_minor": 0,
  "metadata": {
    "colab": {
      "name": "Pattern python solution.ipynb",
      "provenance": [],
      "authorship_tag": "ABX9TyOXe6VHtHFORD2TWzdYHq2X",
      "include_colab_link": true
    },
    "kernelspec": {
      "name": "python3",
      "display_name": "Python 3"
    },
    "language_info": {
      "name": "python"
    },
    "gpuClass": "standard"
  },
  "cells": [
    {
      "cell_type": "markdown",
      "metadata": {
        "id": "view-in-github",
        "colab_type": "text"
      },
      "source": [
        "<a href=\"https://colab.research.google.com/github/SUMITYADAV96/PATTERN-SOLUTION-PRACTICE-/blob/main/Pattern_python_solution.ipynb\" target=\"_parent\"><img src=\"https://colab.research.google.com/assets/colab-badge.svg\" alt=\"Open In Colab\"/></a>"
      ]
    },
    {
      "cell_type": "markdown",
      "source": [
        "## PATTERN PRACTICE SLOUTION\n"
      ],
      "metadata": {
        "id": "usmXFdlWZL9_"
      }
    },
    {
      "cell_type": "code",
      "source": [
        "num = int(input(\"enter your number of rows here: \"))\n",
        "for i in range(num):\n",
        "  for j in range (num):\n",
        "      print(\"*\",end =\" \")\n",
        "  print()"
      ],
      "metadata": {
        "colab": {
          "base_uri": "https://localhost:8080/"
        },
        "id": "jiZA3cj3QSKZ",
        "outputId": "328452c4-588c-48c8-d661-bfc14a17d1ac"
      },
      "execution_count": 1,
      "outputs": [
        {
          "output_type": "stream",
          "name": "stdout",
          "text": [
            "enter your number of rows here: 5\n",
            "* * * * * \n",
            "* * * * * \n",
            "* * * * * \n",
            "* * * * * \n",
            "* * * * * \n"
          ]
        }
      ]
    },
    {
      "cell_type": "code",
      "source": [
        "num = int(input(\"enter the number of rows :\"))\n",
        "for i in range (num):\n",
        "  print(\" * \"*num)"
      ],
      "metadata": {
        "colab": {
          "base_uri": "https://localhost:8080/"
        },
        "id": "QxTfEXq-RWUA",
        "outputId": "40a47a29-2683-4536-ab74-aca2dd829306"
      },
      "execution_count": 2,
      "outputs": [
        {
          "output_type": "stream",
          "name": "stdout",
          "text": [
            "enter the number of rows :8\n",
            " *  *  *  *  *  *  *  * \n",
            " *  *  *  *  *  *  *  * \n",
            " *  *  *  *  *  *  *  * \n",
            " *  *  *  *  *  *  *  * \n",
            " *  *  *  *  *  *  *  * \n",
            " *  *  *  *  *  *  *  * \n",
            " *  *  *  *  *  *  *  * \n",
            " *  *  *  *  *  *  *  * \n"
          ]
        }
      ]
    },
    {
      "cell_type": "code",
      "source": [
        "num = int(input(\"enter the number of rows :\"))\n",
        "for i in range (num):\n",
        "  print(\" * \" * int(i+1))"
      ],
      "metadata": {
        "colab": {
          "base_uri": "https://localhost:8080/"
        },
        "id": "fxQv5lyRThIs",
        "outputId": "603dde13-80e3-43e1-b655-aefcaa77779e"
      },
      "execution_count": 3,
      "outputs": [
        {
          "output_type": "stream",
          "name": "stdout",
          "text": [
            "enter the number of rows :10\n",
            " * \n",
            " *  * \n",
            " *  *  * \n",
            " *  *  *  * \n",
            " *  *  *  *  * \n",
            " *  *  *  *  *  * \n",
            " *  *  *  *  *  *  * \n",
            " *  *  *  *  *  *  *  * \n",
            " *  *  *  *  *  *  *  *  * \n",
            " *  *  *  *  *  *  *  *  *  * \n"
          ]
        }
      ]
    },
    {
      "cell_type": "code",
      "source": [
        "num=int(input(\"enter the number of rows :\"))\n",
        "for i in range(1,num+1):\n",
        "  print(\" * \" * i)"
      ],
      "metadata": {
        "colab": {
          "base_uri": "https://localhost:8080/"
        },
        "id": "wczAf71KUh5s",
        "outputId": "99c72e7b-f9ff-4a97-e09e-180012b2191d"
      },
      "execution_count": 4,
      "outputs": [
        {
          "output_type": "stream",
          "name": "stdout",
          "text": [
            "enter the number of rows :5\n",
            " * \n",
            " *  * \n",
            " *  *  * \n",
            " *  *  *  * \n",
            " *  *  *  *  * \n"
          ]
        }
      ]
    },
    {
      "cell_type": "code",
      "source": [
        "num=int(input(\"enter the number of rows :\"))\n",
        "for i in range (1,num+1):\n",
        "  print(\"  \" *(num-i) + \"* \" * i)"
      ],
      "metadata": {
        "colab": {
          "base_uri": "https://localhost:8080/"
        },
        "id": "Db-mP5sBVIcH",
        "outputId": "b8fc76cb-a729-44d3-c2b4-f8863b354ec7"
      },
      "execution_count": 5,
      "outputs": [
        {
          "output_type": "stream",
          "name": "stdout",
          "text": [
            "enter the number of rows :7\n",
            "            * \n",
            "          * * \n",
            "        * * * \n",
            "      * * * * \n",
            "    * * * * * \n",
            "  * * * * * * \n",
            "* * * * * * * \n"
          ]
        }
      ]
    },
    {
      "cell_type": "code",
      "source": [
        "num=int(input(\"enter the number of rows :\"))\n",
        "for i in range (1,num+1):\n",
        "  print(\" \" *(num-i) + \"* \" * i)\n",
        "for i in range (num,0,-1):\n",
        "  print(\" \" *(num-i) + \"* \" * i)"
      ],
      "metadata": {
        "colab": {
          "base_uri": "https://localhost:8080/"
        },
        "id": "o6GJXjXWVz0M",
        "outputId": "e3e7431e-ddd9-41e2-b83d-c1905060c065"
      },
      "execution_count": 6,
      "outputs": [
        {
          "output_type": "stream",
          "name": "stdout",
          "text": [
            "enter the number of rows :4\n",
            "   * \n",
            "  * * \n",
            " * * * \n",
            "* * * * \n",
            "* * * * \n",
            " * * * \n",
            "  * * \n",
            "   * \n"
          ]
        }
      ]
    },
    {
      "cell_type": "code",
      "source": [
        "num=int(input(\"enter the number of rows :\"))\n",
        "for i in range (1,num+1):\n",
        "  print(\" \" *(num-i) + \"* \" * i)\n",
        "for i in range (num-1,0,-1):\n",
        "  print(\" \" *(num-i) + \"* \" * i)"
      ],
      "metadata": {
        "colab": {
          "base_uri": "https://localhost:8080/"
        },
        "id": "5f3jU4IVXU1G",
        "outputId": "7fd48bcc-dd76-45d5-b350-bc9c0da0a8b1"
      },
      "execution_count": 7,
      "outputs": [
        {
          "output_type": "stream",
          "name": "stdout",
          "text": [
            "enter the number of rows :9\n",
            "        * \n",
            "       * * \n",
            "      * * * \n",
            "     * * * * \n",
            "    * * * * * \n",
            "   * * * * * * \n",
            "  * * * * * * * \n",
            " * * * * * * * * \n",
            "* * * * * * * * * \n",
            " * * * * * * * * \n",
            "  * * * * * * * \n",
            "   * * * * * * \n",
            "    * * * * * \n",
            "     * * * * \n",
            "      * * * \n",
            "       * * \n",
            "        * \n"
          ]
        }
      ]
    },
    {
      "cell_type": "code",
      "source": [
        "num=int(input(\"enter the number of rows :\"))\n",
        "for i in range (num-1,0,-1):\n",
        "  print(\" \" *(num-i) + \"* \" * i)"
      ],
      "metadata": {
        "colab": {
          "base_uri": "https://localhost:8080/"
        },
        "id": "RJdfWtTpXt7Z",
        "outputId": "3f1adc61-4c8c-4afa-d2e3-7985ce36afb4"
      },
      "execution_count": 8,
      "outputs": [
        {
          "output_type": "stream",
          "name": "stdout",
          "text": [
            "enter the number of rows :7\n",
            " * * * * * * \n",
            "  * * * * * \n",
            "   * * * * \n",
            "    * * * \n",
            "     * * \n",
            "      * \n"
          ]
        }
      ]
    },
    {
      "cell_type": "code",
      "source": [
        "num=int(input(\"enter the number of rows :\"))\n",
        "for i in range (num-1,0,-1):\n",
        "  print(\"* \" * i)"
      ],
      "metadata": {
        "colab": {
          "base_uri": "https://localhost:8080/"
        },
        "id": "n9c_fiafYWbz",
        "outputId": "2a9e09cf-58cb-4fd6-ef62-7f2d476b3683"
      },
      "execution_count": 9,
      "outputs": [
        {
          "output_type": "stream",
          "name": "stdout",
          "text": [
            "enter the number of rows :7\n",
            "* * * * * * \n",
            "* * * * * \n",
            "* * * * \n",
            "* * * \n",
            "* * \n",
            "* \n"
          ]
        }
      ]
    },
    {
      "cell_type": "code",
      "source": [
        "num=int(input(\"enter the number of rows :\"))\n",
        "for i in range (1,num+1):\n",
        "  print(\"* \" * i)\n",
        "\n",
        "for i in range (num-1,0,-1):\n",
        "  print(\"* \" * i)"
      ],
      "metadata": {
        "colab": {
          "base_uri": "https://localhost:8080/"
        },
        "id": "5jT7Qoj5YoQ2",
        "outputId": "245c225b-9331-43ec-df3e-cd5ebec515b3"
      },
      "execution_count": 10,
      "outputs": [
        {
          "output_type": "stream",
          "name": "stdout",
          "text": [
            "enter the number of rows :5\n",
            "* \n",
            "* * \n",
            "* * * \n",
            "* * * * \n",
            "* * * * * \n",
            "* * * * \n",
            "* * * \n",
            "* * \n",
            "* \n"
          ]
        }
      ]
    }
  ]
}